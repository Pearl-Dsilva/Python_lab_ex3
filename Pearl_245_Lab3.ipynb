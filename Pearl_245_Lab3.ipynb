{
 "cells": [
  {
   "cell_type": "markdown",
   "metadata": {},
   "source": [
    "Write a function in Python with a string such that it accepts a parameter- “stringsplit”. This encoded string will contain your name, domain name and register number. You can separate the values in the string by any number of underscores. [The string should not contain any other underscore symbols in your name, domain name and register number]. The function should return a Python dictionary with your name, domain name and register number.\n",
    "For example, if the input would be \" Aaron___Googleplaystore____2347201”. Then the function should return the output as follows:\n",
    "{ \"name\": \" Aaron \",\n",
    "\"Domain_name\": \" Googleplaystore \",\n",
    "\"Regno\": \"2347201\" }\n",
    "\n"
   ]
  },
  {
   "cell_type": "code",
   "execution_count": 22,
   "metadata": {},
   "outputs": [
    {
     "name": "stdout",
     "output_type": "stream",
     "text": [
      "{'Name': 'Pearl', 'Domain_name': 'ZooManagement', 'RegNo': '2347245'}\n",
      "{'Name': 'Pearl', 'Domain_name': 'ZooManagement', 'RegNo': '2347245'}\n",
      "{'Name': 'Pearl', 'Domain_name': 'ZooManagement', 'RegNo': '2347245'}\n"
     ]
    }
   ],
   "source": [
    "def stringsplit1(details):\n",
    "    element=details.split(\"_\")\n",
    "    #Method 1\n",
    "    thisDict = dict(Name=element[0], Domain_name=element[1], RegNo=element[2])\n",
    "    print(thisDict)\n",
    "\n",
    "def stringsplit2(details):\n",
    "    #Method 2\n",
    "    element=details.split(\"_\")\n",
    "    elementKeys = [\"Name\",\"Domain_name\",\"RegNo\"]\n",
    "    elementValues = element\n",
    "    resultDict = {}\n",
    "    for key in elementKeys:\n",
    "        for value in elementValues:\n",
    "            resultDict[key] = value\n",
    "            elementValues.remove(value)\n",
    "            break\n",
    "    print(resultDict)\n",
    "\n",
    "def stringsplit3(details):\n",
    "    #Method 3\n",
    "    element=details.split(\"_\")\n",
    "    d = {\"Name\":element[0], \"Domain_name\":element[1],\"RegNo\":element[2]}\n",
    "    print(d)\n",
    "\n",
    "stringsplit1(\"Pearl_ZooManagement_2347245\")\n",
    "stringsplit2(\"Pearl_ZooManagement_2347245\")\n",
    "stringsplit3(\"Pearl_ZooManagement_2347245\")"
   ]
  }
 ],
 "metadata": {
  "kernelspec": {
   "display_name": "Python 3",
   "language": "python",
   "name": "python3"
  },
  "language_info": {
   "codemirror_mode": {
    "name": "ipython",
    "version": 3
   },
   "file_extension": ".py",
   "mimetype": "text/x-python",
   "name": "python",
   "nbconvert_exporter": "python",
   "pygments_lexer": "ipython3",
   "version": "3.7.9"
  },
  "orig_nbformat": 4
 },
 "nbformat": 4,
 "nbformat_minor": 2
}
